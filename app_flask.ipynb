{
 "cells": [
  {
   "cell_type": "code",
   "execution_count": 2,
   "metadata": {},
   "outputs": [
    {
     "name": "stdout",
     "output_type": "stream",
     "text": [
      " * Serving Flask app '__main__'\n",
      " * Debug mode: off\n"
     ]
    },
    {
     "name": "stderr",
     "output_type": "stream",
     "text": [
      "WARNING: This is a development server. Do not use it in a production deployment. Use a production WSGI server instead.\n",
      " * Running on http://127.0.0.1:5000\n",
      "Press CTRL+C to quit\n",
      "127.0.0.1 - - [14/Oct/2023 13:04:28] \"GET / HTTP/1.1\" 200 -\n",
      "127.0.0.1 - - [14/Oct/2023 13:04:28] \"GET /favicon.ico HTTP/1.1\" 404 -\n"
     ]
    },
    {
     "name": "stdout",
     "output_type": "stream",
     "text": [
      "1/1 [==============================] - 0s 176ms/step\n"
     ]
    },
    {
     "name": "stderr",
     "output_type": "stream",
     "text": [
      "127.0.0.1 - - [14/Oct/2023 13:04:32] \"POST /upload HTTP/1.1\" 200 -\n",
      "127.0.0.1 - - [14/Oct/2023 13:04:32] \"GET /upload/dog_test.jpg HTTP/1.1\" 404 -\n"
     ]
    },
    {
     "name": "stdout",
     "output_type": "stream",
     "text": [
      "1/1 [==============================] - 0s 47ms/step\n"
     ]
    },
    {
     "name": "stderr",
     "output_type": "stream",
     "text": [
      "127.0.0.1 - - [14/Oct/2023 13:04:38] \"POST /upload HTTP/1.1\" 200 -\n",
      "127.0.0.1 - - [14/Oct/2023 13:04:38] \"GET /upload/lion.jpg HTTP/1.1\" 404 -\n"
     ]
    },
    {
     "name": "stdout",
     "output_type": "stream",
     "text": [
      "1/1 [==============================] - 0s 40ms/step\n"
     ]
    },
    {
     "name": "stderr",
     "output_type": "stream",
     "text": [
      "127.0.0.1 - - [14/Oct/2023 13:04:42] \"POST /upload HTTP/1.1\" 200 -\n",
      "127.0.0.1 - - [14/Oct/2023 13:04:42] \"GET /upload/eagle.jpg HTTP/1.1\" 404 -\n"
     ]
    }
   ],
   "source": [
    "import os \n",
    "import numpy as np\n",
    "import pandas as pd\n",
    "import matplotlib.pyplot as plt\n",
    "import skimage.transform\n",
    "import pickle\n",
    "import tensorflow as tf\n",
    "\n",
    "from flask import Flask, request, render_template\n",
    "\n",
    "app=Flask(__name__)\n",
    "\n",
    "UPLOAD_FOLDER = 'upload/'\n",
    "PICKLE_FOLDER = 'pickle_files/'\n",
    "MODEL_FOLDER  = 'model/'\n",
    "    \n",
    "model= tf.keras.models.load_model(MODEL_FOLDER+\"model.h5\")\n",
    "with open (PICKLE_FOLDER+'diego_mapeo.pkl','rb') as f:\n",
    "    mapping=pickle.load(f)\n",
    "    \n",
    "@app.route('/')\n",
    "def index():\n",
    "    return render_template('form.html')\n",
    "\n",
    "\n",
    "@app.route('/upload', methods=['POST'])\n",
    "def uploader():\n",
    "    if request.method=='POST':\n",
    "        \n",
    "        #getting the image extension\n",
    "        f=request.files['archivo']\n",
    "        filename=f.filename\n",
    "        ext=filename.split('.')[-1]\n",
    "        \n",
    "        #checking extension\n",
    "        if ext in ['jpg','png','jpeg']:\n",
    "            \n",
    "            #saving the image\n",
    "            save_path=f'{UPLOAD_FOLDER}/{filename}'\n",
    "            f.save(save_path)\n",
    "            \n",
    "            #getting the model prediction\n",
    "            results=model_pipeline(save_path,mapping,model)\n",
    "            return render_template('form.html',fileupload=True,data=results,image_filename=filename)\n",
    "        \n",
    "        return '<H1> Only JPEG, JPG and PNG files <H1>'\n",
    "    return '<H1> Only POST methods <H1>'\n",
    "\n",
    "#function to make the prediction\n",
    "def model_pipeline(file_path,mapping,model):\n",
    "    img=plt.imread(file_path)\n",
    "    img=skimage.transform.resize(img,[80,80])\n",
    "    img=np.array([img])\n",
    "    predict=model.predict(img)\n",
    "    return pd.Series(np.round(predict[0],2),index=mapping.values()).sort_values(ascending=False)[:5].to_dict()\n",
    "\n",
    "\n",
    "\n",
    "if __name__ == '__main__':\n",
    "    app.run()\n"
   ]
  }
 ],
 "metadata": {
  "kernelspec": {
   "display_name": "base",
   "language": "python",
   "name": "python3"
  },
  "language_info": {
   "codemirror_mode": {
    "name": "ipython",
    "version": 3
   },
   "file_extension": ".py",
   "mimetype": "text/x-python",
   "name": "python",
   "nbconvert_exporter": "python",
   "pygments_lexer": "ipython3",
   "version": "3.10.9"
  },
  "orig_nbformat": 4
 },
 "nbformat": 4,
 "nbformat_minor": 2
}
